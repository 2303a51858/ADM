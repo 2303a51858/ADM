{
  "nbformat": 4,
  "nbformat_minor": 0,
  "metadata": {
    "colab": {
      "provenance": [],
      "authorship_tag": "ABX9TyPiij6Xbz3KqUjsjexppnZa",
      "include_colab_link": true
    },
    "kernelspec": {
      "name": "python3",
      "display_name": "Python 3"
    },
    "language_info": {
      "name": "python"
    }
  },
  "cells": [
    {
      "cell_type": "markdown",
      "metadata": {
        "id": "view-in-github",
        "colab_type": "text"
      },
      "source": [
        "<a href=\"https://colab.research.google.com/github/2303a51858/ADM/blob/main/Untitled28.ipynb\" target=\"_parent\"><img src=\"https://colab.research.google.com/assets/colab-badge.svg\" alt=\"Open In Colab\"/></a>"
      ]
    },
    {
      "cell_type": "markdown",
      "source": [
        "Ass1"
      ],
      "metadata": {
        "id": "EseQ-R2Rxd1c"
      }
    },
    {
      "cell_type": "code",
      "execution_count": 1,
      "metadata": {
        "id": "Ppl-lneSb6fz",
        "colab": {
          "base_uri": "https://localhost:8080/"
        },
        "outputId": "6f6750e0-c626-4a1b-a293-809bea200002"
      },
      "outputs": [
        {
          "output_type": "stream",
          "name": "stdout",
          "text": [
            "     Pregnancies  Glucose  BloodPressure  SkinThickness  Insulin   BMI  \\\n",
            "0              6      148             72             35        0  33.6   \n",
            "1              1       85             66             29        0  26.6   \n",
            "2              8      183             64              0        0  23.3   \n",
            "3              1       89             66             23       94  28.1   \n",
            "4              0      137             40             35      168  43.1   \n",
            "..           ...      ...            ...            ...      ...   ...   \n",
            "763           10      101             76             48      180  32.9   \n",
            "764            2      122             70             27        0  36.8   \n",
            "765            5      121             72             23      112  26.2   \n",
            "766            1      126             60              0        0  30.1   \n",
            "767            1       93             70             31        0  30.4   \n",
            "\n",
            "     DiabetesPedigreeFunction  Age  Outcome  \n",
            "0                       0.627   50        1  \n",
            "1                       0.351   31        0  \n",
            "2                       0.672   32        1  \n",
            "3                       0.167   21        0  \n",
            "4                       2.288   33        1  \n",
            "..                        ...  ...      ...  \n",
            "763                     0.171   63        0  \n",
            "764                     0.340   27        0  \n",
            "765                     0.245   30        0  \n",
            "766                     0.349   47        1  \n",
            "767                     0.315   23        0  \n",
            "\n",
            "[768 rows x 9 columns]\n"
          ]
        }
      ],
      "source": [
        "import pandas as pd\n",
        "df=pd.read_csv(\"/content/diabetes.csv\")\n",
        "print(df)"
      ]
    },
    {
      "cell_type": "code",
      "source": [
        "import pandas as pd\n",
        "df = pd.read_csv('/content/diabetes.csv')\n",
        "df.fillna(df.mean(), inplace=True)\n",
        "print(df)\n"
      ],
      "metadata": {
        "colab": {
          "base_uri": "https://localhost:8080/"
        },
        "id": "3P5-sTrmo19R",
        "outputId": "df0f48c8-3891-4048-db32-3a9cef56380e"
      },
      "execution_count": 3,
      "outputs": [
        {
          "output_type": "stream",
          "name": "stdout",
          "text": [
            "     Pregnancies  Glucose  BloodPressure  SkinThickness  Insulin   BMI  \\\n",
            "0              6      148             72             35        0  33.6   \n",
            "1              1       85             66             29        0  26.6   \n",
            "2              8      183             64              0        0  23.3   \n",
            "3              1       89             66             23       94  28.1   \n",
            "4              0      137             40             35      168  43.1   \n",
            "..           ...      ...            ...            ...      ...   ...   \n",
            "763           10      101             76             48      180  32.9   \n",
            "764            2      122             70             27        0  36.8   \n",
            "765            5      121             72             23      112  26.2   \n",
            "766            1      126             60              0        0  30.1   \n",
            "767            1       93             70             31        0  30.4   \n",
            "\n",
            "     DiabetesPedigreeFunction  Age  Outcome  \n",
            "0                       0.627   50        1  \n",
            "1                       0.351   31        0  \n",
            "2                       0.672   32        1  \n",
            "3                       0.167   21        0  \n",
            "4                       2.288   33        1  \n",
            "..                        ...  ...      ...  \n",
            "763                     0.171   63        0  \n",
            "764                     0.340   27        0  \n",
            "765                     0.245   30        0  \n",
            "766                     0.349   47        1  \n",
            "767                     0.315   23        0  \n",
            "\n",
            "[768 rows x 9 columns]\n"
          ]
        }
      ]
    },
    {
      "cell_type": "code",
      "source": [
        "import pandas as pd\n",
        "from sklearn.preprocessing import MinMaxScaler, StandardScaler\n",
        "df = pd.read_csv('//content/diabetes.csv')\n",
        "numerical_cols = df.select_dtypes(include=['float64', 'int64']).columns.tolist()\n",
        "print(\"Original Data:\")\n",
        "print(df[numerical_cols].head())\n",
        "min_max_scaler = MinMaxScaler()\n",
        "df_min_max_scaled = df.copy()\n",
        "df_min_max_scaled[numerical_cols] = min_max_scaler.fit_transform(df[numerical_cols])\n",
        "print(\"\\nMin-Max Normalized Data:\")\n",
        "print(df_min_max_scaled[numerical_cols].head())\n",
        "standard_scaler = StandardScaler()\n",
        "df_standardized = df.copy()\n",
        "df_standardized[numerical_cols] = standard_scaler.fit_transform(df[numerical_cols])\n",
        "print(\"\\nStandardized Data:\")\n",
        "print(df_standardized[numerical_cols].head())"
      ],
      "metadata": {
        "colab": {
          "base_uri": "https://localhost:8080/"
        },
        "id": "x_0oikBrv6bs",
        "outputId": "09549259-0b64-4be7-a48f-08d7f8c26f9f"
      },
      "execution_count": 10,
      "outputs": [
        {
          "output_type": "stream",
          "name": "stdout",
          "text": [
            "Original Data:\n",
            "   Pregnancies  Glucose  BloodPressure  SkinThickness  Insulin   BMI  \\\n",
            "0            6      148             72             35        0  33.6   \n",
            "1            1       85             66             29        0  26.6   \n",
            "2            8      183             64              0        0  23.3   \n",
            "3            1       89             66             23       94  28.1   \n",
            "4            0      137             40             35      168  43.1   \n",
            "\n",
            "   DiabetesPedigreeFunction  Age  Outcome  \n",
            "0                     0.627   50        1  \n",
            "1                     0.351   31        0  \n",
            "2                     0.672   32        1  \n",
            "3                     0.167   21        0  \n",
            "4                     2.288   33        1  \n",
            "\n",
            "Min-Max Normalized Data:\n",
            "   Pregnancies   Glucose  BloodPressure  SkinThickness   Insulin       BMI  \\\n",
            "0     0.352941  0.743719       0.590164       0.353535  0.000000  0.500745   \n",
            "1     0.058824  0.427136       0.540984       0.292929  0.000000  0.396423   \n",
            "2     0.470588  0.919598       0.524590       0.000000  0.000000  0.347243   \n",
            "3     0.058824  0.447236       0.540984       0.232323  0.111111  0.418778   \n",
            "4     0.000000  0.688442       0.327869       0.353535  0.198582  0.642325   \n",
            "\n",
            "   DiabetesPedigreeFunction       Age  Outcome  \n",
            "0                  0.234415  0.483333      1.0  \n",
            "1                  0.116567  0.166667      0.0  \n",
            "2                  0.253629  0.183333      1.0  \n",
            "3                  0.038002  0.000000      0.0  \n",
            "4                  0.943638  0.200000      1.0  \n",
            "\n",
            "Standardized Data:\n",
            "   Pregnancies   Glucose  BloodPressure  SkinThickness   Insulin       BMI  \\\n",
            "0     0.639947  0.848324       0.149641       0.907270 -0.692891  0.204013   \n",
            "1    -0.844885 -1.123396      -0.160546       0.530902 -0.692891 -0.684422   \n",
            "2     1.233880  1.943724      -0.263941      -1.288212 -0.692891 -1.103255   \n",
            "3    -0.844885 -0.998208      -0.160546       0.154533  0.123302 -0.494043   \n",
            "4    -1.141852  0.504055      -1.504687       0.907270  0.765836  1.409746   \n",
            "\n",
            "   DiabetesPedigreeFunction       Age   Outcome  \n",
            "0                  0.468492  1.425995  1.365896  \n",
            "1                 -0.365061 -0.190672 -0.732120  \n",
            "2                  0.604397 -0.105584  1.365896  \n",
            "3                 -0.920763 -1.041549 -0.732120  \n",
            "4                  5.484909 -0.020496  1.365896  \n"
          ]
        }
      ]
    },
    {
      "cell_type": "markdown",
      "source": [
        "**Ass2**"
      ],
      "metadata": {
        "id": "76_v_VUsxXtc"
      }
    },
    {
      "cell_type": "code",
      "source": [
        "import pandas as pd\n",
        "import matplotlib.pyplot as plt\n",
        "df = pd.read_csv('//content/diabetes.csv')\n",
        "plt.hist(df['Age'], bins=40, color='skyblue', edgecolor='black')\n",
        "plt.title('Age Distribution')\n",
        "plt.xlabel('Age')\n",
        "plt.ylabel('Frequency')\n",
        "plt.show()"
      ],
      "metadata": {
        "colab": {
          "base_uri": "https://localhost:8080/",
          "height": 472
        },
        "id": "rmfew04Yufnq",
        "outputId": "17fda59b-0485-46ba-8cf9-daef6288bec8"
      },
      "execution_count": 8,
      "outputs": [
        {
          "output_type": "display_data",
          "data": {
            "text/plain": [
              "<Figure size 640x480 with 1 Axes>"
            ],
            "image/png": "[encoded data removed]"
          },
          "metadata": {}
        }
      ]
    },
    {
      "cell_type": "code",
      "source": [
        "import pandas as pd\n",
        "\n",
        "# Step 1: Load the dataset (replace 'data.csv' with your actual file path)\n",
        "df = pd.read_csv('diabetes.csv')\n",
        "\n",
        "# Step 2: Check for missing values\n",
        "print(\"Missing values before imputation:\")\n",
        "print(df.isnull().sum())\n",
        "\n",
        "# Step 3: Impute missing values\n",
        "# Mean imputation for numerical columns\n",
        "for column in df.select_dtypes(include=['float64', 'int64']).columns:\n",
        "    df[column].fillna(df[column].mean(), inplace=True)  # Mean imputation\n",
        "\n",
        "# Median imputation for numerical columns (if needed)\n",
        "# Uncomment the following lines if you want to use median instead\n",
        "# for column in df.select_dtypes(include=['float64', 'int64']).columns:\n",
        "#     df[column].fillna(df[column].median(), inplace=True)  # Median imputation\n",
        "\n",
        "# Mode imputation for categorical columns\n",
        "for column in df.select_dtypes(include=['object']).columns:\n",
        "    df[column].fillna(df[column].mode()[0], inplace=True)  # Mode imputation\n",
        "\n",
        "# Step 4: Verify the results\n",
        "print(\"\\nMissing values after imputation:\")\n",
        "print(df.isnull().sum())"
      ],
      "metadata": {
        "colab": {
          "base_uri": "https://localhost:8080/"
        },
        "id": "NUGftcnOwv5c",
        "outputId": "e92276c0-6074-4206-c1a6-c863addebaf1"
      },
      "execution_count": 13,
      "outputs": [
        {
          "output_type": "stream",
          "name": "stdout",
          "text": [
            "Missing values before imputation:\n",
            "Pregnancies                 0\n",
            "Glucose                     0\n",
            "BloodPressure               0\n",
            "SkinThickness               0\n",
            "Insulin                     0\n",
            "BMI                         0\n",
            "DiabetesPedigreeFunction    0\n",
            "Age                         0\n",
            "Outcome                     0\n",
            "dtype: int64\n",
            "\n",
            "Missing values after imputation:\n",
            "Pregnancies                 0\n",
            "Glucose                     0\n",
            "BloodPressure               0\n",
            "SkinThickness               0\n",
            "Insulin                     0\n",
            "BMI                         0\n",
            "DiabetesPedigreeFunction    0\n",
            "Age                         0\n",
            "Outcome                     0\n",
            "dtype: int64\n"
          ]
        },
        {
          "output_type": "stream",
          "name": "stderr",
          "text": [
            "<ipython-input-13-bdf150862f86>:13: FutureWarning: A value is trying to be set on a copy of a DataFrame or Series through chained assignment using an inplace method.\n",
            "The behavior will change in pandas 3.0. This inplace method will never work because the intermediate object on which we are setting values always behaves as a copy.\n",
            "\n",
            "For example, when doing 'df[col].method(value, inplace=True)', try using 'df.method({col: value}, inplace=True)' or df[col] = df[col].method(value) instead, to perform the operation inplace on the original object.\n",
            "\n",
            "\n",
            "  df[column].fillna(df[column].mean(), inplace=True)  # Mean imputation\n"
          ]
        }
      ]
    }
  ]
}